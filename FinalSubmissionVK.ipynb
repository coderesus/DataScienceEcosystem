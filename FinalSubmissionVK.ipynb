{
 "cells": [
  {
   "cell_type": "markdown",
   "id": "ae83cf79-3d13-41ea-9b13-4f8cfb1fe5ff",
   "metadata": {},
   "source": [
    "### Data Science Final Exam"
   ]
  },
  {
   "cell_type": "markdown",
   "id": "f73ebe28-f487-4f71-827e-a5c2a0cc952e",
   "metadata": {},
   "source": [
    "This is the my final exam submission for the IBM Data Science Professional Certification, using JupyterLab."
   ]
  },
  {
   "cell_type": "markdown",
   "id": "539732f8-c711-4f55-ac90-809f5f1a6ef7",
   "metadata": {},
   "source": [
    "Some of the popular Data Science languages are:\n",
    "1. Python\n",
    "2. R\n",
    "3. C/C++"
   ]
  },
  {
   "cell_type": "markdown",
   "id": "2bbe85cc-c0fa-4aad-92be-4a465b01e0da",
   "metadata": {},
   "source": [
    "Some of the popular Data Science Libraries are:\n",
    "- NumPy\n",
    "- PyTorch\n",
    "- Matplotlib\n",
    "- TensorFlow\n",
    "- Keras"
   ]
  },
  {
   "cell_type": "markdown",
   "id": "cf189c79-f5d2-41da-aecb-95ea4606717a",
   "metadata": {},
   "source": [
    "| Data Science Tools |\n",
    "| --- |\n",
    "| Anaconda |\n",
    "| Jupyter |\n",
    "| GitHub |\n",
    "| RStudio |"
   ]
  },
  {
   "cell_type": "markdown",
   "id": "baf8e6ca-bd2c-4fea-b081-7fc040825dae",
   "metadata": {},
   "source": [
    "Below are some examples of how you can perform simple arithmetic problems."
   ]
  },
  {
   "cell_type": "code",
   "execution_count": 1,
   "id": "50053b9f-1256-4d3e-9daa-fa7e46f733fc",
   "metadata": {
    "tags": []
   },
   "outputs": [
    {
     "data": {
      "text/plain": [
       "26"
      ]
     },
     "execution_count": 1,
     "metadata": {},
     "output_type": "execute_result"
    }
   ],
   "source": [
    "(2*9)+8"
   ]
  },
  {
   "cell_type": "code",
   "execution_count": 5,
   "id": "aeecf8fc-59aa-4395-9408-b54e00416370",
   "metadata": {
    "tags": []
   },
   "outputs": [
    {
     "name": "stdout",
     "output_type": "stream",
     "text": [
      "3:20:00\n"
     ]
    }
   ],
   "source": [
    "seconds = 12000\n",
    "\n",
    "minutes, seconds = divmod(seconds, 60)\n",
    "hours, minutes = divmod(minutes, 60)\n",
    "\n",
    "print(\"%d:%02d:%02d\" % (hours, minutes, seconds))"
   ]
  },
  {
   "cell_type": "markdown",
   "id": "1021b125-6a74-4c06-87f9-698c2e912b89",
   "metadata": {},
   "source": [
    "The objectives of this exercise are:\n",
    "- to use markdown and code cells for a variety of exercises\n",
    "- to perform simple arithmetic exercise\n",
    "- to list a few data science languages, libraries, and tools"
   ]
  },
  {
   "cell_type": "markdown",
   "id": "ba0facf6-06e0-4c62-8f22-dccf8a065135",
   "metadata": {},
   "source": [
    "## Author\n",
    "Vivek Kakar"
   ]
  },
  {
   "cell_type": "code",
   "execution_count": null,
   "id": "f6a902a6-5132-41fd-936e-dc91dbb3f0a8",
   "metadata": {},
   "outputs": [],
   "source": []
  }
 ],
 "metadata": {
  "kernelspec": {
   "display_name": "Python",
   "language": "python",
   "name": "conda-env-python-py"
  },
  "language_info": {
   "codemirror_mode": {
    "name": "ipython",
    "version": 3
   },
   "file_extension": ".py",
   "mimetype": "text/x-python",
   "name": "python",
   "nbconvert_exporter": "python",
   "pygments_lexer": "ipython3",
   "version": "3.7.12"
  }
 },
 "nbformat": 4,
 "nbformat_minor": 5
}
